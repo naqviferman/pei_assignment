{
 "cells": [
  {
   "cell_type": "code",
   "execution_count": null,
   "metadata": {
    "application/vnd.databricks.v1+cell": {
     "cellMetadata": {
      "byteLimit": 2048000,
      "rowLimit": 10000
     },
     "inputWidgets": {},
     "nuid": "18f7ce5c-9227-4ad8-ba9f-e223c7fe98ca",
     "showTitle": false,
     "title": ""
    }
   },
   "outputs": [],
   "source": [
    "from pyspark.sql import functions as fn"
   ]
  },
  {
   "cell_type": "markdown",
   "metadata": {
    "application/vnd.databricks.v1+cell": {
     "cellMetadata": {
      "byteLimit": 2048000,
      "rowLimit": 10000
     },
     "inputWidgets": {},
     "nuid": "2d2a10db-ea6d-4a93-9f80-bd65f5471dd5",
     "showTitle": false,
     "title": ""
    }
   },
   "source": [
    "### Task 1- Create raw tables for each source dataset"
   ]
  },
  {
   "cell_type": "code",
   "execution_count": null,
   "metadata": {
    "application/vnd.databricks.v1+cell": {
     "cellMetadata": {
      "byteLimit": 2048000,
      "rowLimit": 10000
     },
     "inputWidgets": {},
     "nuid": "1e4b2b65-0c46-4d0d-b90e-61d728eeb545",
     "showTitle": false,
     "title": ""
    }
   },
   "outputs": [],
   "source": [
    "# File location and type\n",
    "file_location = \"/FileStore/tables/Product.csv\"\n",
    "file_type = \"csv\"\n",
    "\n",
    "# CSV options\n",
    "infer_schema = True\n",
    "first_row_is_header = True\n",
    "delimiter = \",\"\n",
    "\n",
    "# Load file\n",
    "df = spark.read.format(file_type) \\\n",
    "  .option(\"inferSchema\", infer_schema) \\\n",
    "  .option(\"header\", first_row_is_header) \\\n",
    "  .option(\"sep\", delimiter) \\\n",
    "  .load(file_location)"
   ]
  },
  {
   "cell_type": "code",
   "execution_count": null,
   "metadata": {
    "application/vnd.databricks.v1+cell": {
     "cellMetadata": {
      "byteLimit": 2048000,
      "rowLimit": 10000
     },
     "inputWidgets": {},
     "nuid": "0d309ed9-74ea-4385-8b35-9df48a49210b",
     "showTitle": false,
     "title": ""
    }
   },
   "outputs": [],
   "source": [
    "# Creating Raw Table- Product\n",
    "permanent_table_name = \"Product\"\n",
    "df.write.format(\"parquet\").saveAsTable(permanent_table_name)"
   ]
  },
  {
   "cell_type": "code",
   "execution_count": null,
   "metadata": {
    "application/vnd.databricks.v1+cell": {
     "cellMetadata": {
      "byteLimit": 2048000,
      "rowLimit": 10000
     },
     "inputWidgets": {},
     "nuid": "a8e7e628-ddde-4e17-85e9-b3d326576951",
     "showTitle": false,
     "title": ""
    }
   },
   "outputs": [],
   "source": [
    "# File location and type\n",
    "file_location = \"/FileStore/tables/Order.json\"\n",
    "file_type = \"json\"\n",
    "\n",
    "df = spark.read.format(file_type) \\\n",
    "  .option('multiline', True) \\\n",
    "  .load(file_location)"
   ]
  },
  {
   "cell_type": "code",
   "execution_count": null,
   "metadata": {
    "application/vnd.databricks.v1+cell": {
     "cellMetadata": {
      "byteLimit": 2048000,
      "rowLimit": 10000
     },
     "inputWidgets": {},
     "nuid": "5146b302-df9c-4168-b276-c66dc949d7ef",
     "showTitle": false,
     "title": ""
    }
   },
   "outputs": [],
   "source": [
    "# Creating Raw Table- Order\n",
    "permanent_table_name = \"Order\"\n",
    "df.write.format(\"parquet\").saveAsTable(permanent_table_name)"
   ]
  },
  {
   "cell_type": "code",
   "execution_count": null,
   "metadata": {
    "application/vnd.databricks.v1+cell": {
     "cellMetadata": {},
     "inputWidgets": {},
     "nuid": "6623d710-120a-4c27-8fc9-e2b4ca5fc0e5",
     "showTitle": false,
     "title": ""
    }
   },
   "outputs": [],
   "source": [
    "excel_file_path = \"/FileStore/tables/Customer.xlsx\"\n",
    "\n",
    "df = spark.read \\\n",
    "    .format(\"com.crealytics.spark.excel\") \\ # Install com.crealytics.spark.excel library before running\n",
    "    .option(\"header\", \"true\") \\\n",
    "    .load(excel_file_path)"
   ]
  },
  {
   "cell_type": "code",
   "execution_count": null,
   "metadata": {
    "application/vnd.databricks.v1+cell": {
     "cellMetadata": {},
     "inputWidgets": {},
     "nuid": "fad5ce5d-053a-4767-913a-55a474fda872",
     "showTitle": false,
     "title": ""
    }
   },
   "outputs": [],
   "source": [
    "# Creating Raw Table- Customer\n",
    "permanent_table_name = \"Customer\"\n",
    "df.write.format(\"parquet\").saveAsTable(permanent_table_name)"
   ]
  },
  {
   "cell_type": "markdown",
   "metadata": {
    "application/vnd.databricks.v1+cell": {
     "cellMetadata": {
      "byteLimit": 2048000,
      "rowLimit": 10000
     },
     "inputWidgets": {},
     "nuid": "4d035c8a-ee30-420d-be54-0a9092a5b481",
     "showTitle": false,
     "title": ""
    }
   },
   "source": [
    "##### Load Data"
   ]
  },
  {
   "cell_type": "code",
   "execution_count": null,
   "metadata": {
    "application/vnd.databricks.v1+cell": {
     "cellMetadata": {
      "byteLimit": 2048000,
      "rowLimit": 10000
     },
     "inputWidgets": {},
     "nuid": "833a1a3b-dddc-409e-8686-ccc7743e5bb5",
     "showTitle": false,
     "title": ""
    }
   },
   "outputs": [],
   "source": [
    "product_df = df = spark.read.table('Product')\n",
    "order_df = df = spark.read.table('Order')\n",
    "customer_df = df = spark.read.table('Customer')"
   ]
  },
  {
   "cell_type": "markdown",
   "metadata": {
    "application/vnd.databricks.v1+cell": {
     "cellMetadata": {},
     "inputWidgets": {},
     "nuid": "1a6c99c8-4861-455f-b856-cb861d73d2f4",
     "showTitle": false,
     "title": ""
    }
   },
   "source": [
    "### Task 2- Create an enriched table for customers and products"
   ]
  },
  {
   "cell_type": "code",
   "execution_count": null,
   "metadata": {
    "application/vnd.databricks.v1+cell": {
     "cellMetadata": {
      "byteLimit": 2048000,
      "rowLimit": 10000
     },
     "inputWidgets": {},
     "nuid": "99eca582-13ea-4774-a690-e0d12500891d",
     "showTitle": false,
     "title": ""
    }
   },
   "outputs": [],
   "source": [
    "# Products ordered by customers\n",
    "order_filtered_df = order_df.select('Customer ID', 'Product ID')"
   ]
  },
  {
   "cell_type": "code",
   "execution_count": null,
   "metadata": {
    "application/vnd.databricks.v1+cell": {
     "cellMetadata": {
      "byteLimit": 2048000,
      "rowLimit": 10000
     },
     "inputWidgets": {},
     "nuid": "084fb27f-227a-431b-a6c8-e8fd67a23fb7",
     "showTitle": false,
     "title": ""
    }
   },
   "outputs": [],
   "source": [
    "customer_order_df = customer_df.join(order_filtered_df, on=\"Customer ID\", how=\"inner\")\n",
    "enriched_df_1 = customer_order_df.join(product_df, on=\"Product ID\", how=\"inner\")\n",
    "display(enriched_df_1)"
   ]
  },
  {
   "cell_type": "markdown",
   "metadata": {
    "application/vnd.databricks.v1+cell": {
     "cellMetadata": {},
     "inputWidgets": {},
     "nuid": "ad426400-925a-49da-8b63-3fe0805492e0",
     "showTitle": false,
     "title": ""
    }
   },
   "source": [
    "### Task 3"
   ]
  },
  {
   "cell_type": "code",
   "execution_count": null,
   "metadata": {
    "application/vnd.databricks.v1+cell": {
     "cellMetadata": {
      "byteLimit": 2048000,
      "rowLimit": 10000
     },
     "inputWidgets": {},
     "nuid": "64055069-a83b-44b3-bcf3-1dd2951f3886",
     "showTitle": false,
     "title": ""
    }
   },
   "outputs": [],
   "source": [
    "customer_filtered_df = customer_df.select('Customer ID', \"Customer Name\", \"Country\")\n",
    "product_filtered_df = product_df.select('Product ID', \"Category\", \"Sub-Category\")"
   ]
  },
  {
   "cell_type": "code",
   "execution_count": null,
   "metadata": {
    "application/vnd.databricks.v1+cell": {
     "cellMetadata": {
      "byteLimit": 2048000,
      "rowLimit": 10000
     },
     "inputWidgets": {},
     "nuid": "85fe0bc7-71e6-44b2-9c20-aee899a50b5c",
     "showTitle": false,
     "title": ""
    }
   },
   "outputs": [],
   "source": [
    "order_customer_df = order_df.join(customer_filtered_df, on=\"Customer ID\", how=\"inner\")\n",
    "enriched_df_2 = order_customer_df.join(product_filtered_df, on=\"Product ID\", how=\"inner\")"
   ]
  },
  {
   "cell_type": "code",
   "execution_count": null,
   "metadata": {
    "application/vnd.databricks.v1+cell": {
     "cellMetadata": {
      "byteLimit": 2048000,
      "rowLimit": 10000
     },
     "inputWidgets": {},
     "nuid": "ab2ddb1e-f1f0-4d05-8186-1eecf04bb058",
     "showTitle": false,
     "title": ""
    }
   },
   "outputs": [],
   "source": [
    "enriched_df_2 = enriched_df_2.withColumn(\"Profit\", fn.round(\"Profit\", 2))\n",
    "display(enriched_df_2)"
   ]
  },
  {
   "cell_type": "markdown",
   "metadata": {
    "application/vnd.databricks.v1+cell": {
     "cellMetadata": {},
     "inputWidgets": {},
     "nuid": "a0cbc10d-88f3-4156-b475-6f44a99daf4d",
     "showTitle": false,
     "title": ""
    }
   },
   "source": [
    "### Task 4"
   ]
  },
  {
   "cell_type": "code",
   "execution_count": null,
   "metadata": {
    "application/vnd.databricks.v1+cell": {
     "cellMetadata": {
      "byteLimit": 2048000,
      "rowLimit": 10000
     },
     "inputWidgets": {},
     "nuid": "c7a37565-d2a2-46f1-beea-3b1ee7352737",
     "showTitle": false,
     "title": ""
    }
   },
   "outputs": [],
   "source": [
    "master_df = order_df.join(customer_df, on=\"Customer ID\", how=\"inner\").join(product_df, on=\"Product ID\", how=\"inner\")"
   ]
  },
  {
   "cell_type": "code",
   "execution_count": null,
   "metadata": {
    "application/vnd.databricks.v1+cell": {
     "cellMetadata": {
      "byteLimit": 2048000,
      "rowLimit": 10000
     },
     "inputWidgets": {},
     "nuid": "d9930063-f02b-4956-a01a-5fd8e6200f6f",
     "showTitle": false,
     "title": ""
    }
   },
   "outputs": [],
   "source": [
    "stg_table = master_df.withColumn(\"Profit\", fn.round(\"Profit\", 2))\n",
    "stg_table = stg_table.withColumn(\"Order Date\", fn.to_date(\"Order Date\", \"dd/MM/yyyy\"))\n",
    "master_enriched_df = stg_table.withColumn(\"Year\", fn.year(\"Order Date\"))"
   ]
  },
  {
   "cell_type": "code",
   "execution_count": null,
   "metadata": {
    "application/vnd.databricks.v1+cell": {
     "cellMetadata": {
      "byteLimit": 2048000,
      "rowLimit": 10000
     },
     "inputWidgets": {},
     "nuid": "0f84cc35-0092-40a4-ad30-d6ac98e460d9",
     "showTitle": false,
     "title": ""
    }
   },
   "outputs": [],
   "source": [
    "aggregate_df = master_enriched_df.groupBy(\"Year\", \"Category\", \"Sub-Category\", \"Customer ID\") \\\n",
    "                           .agg({\"Profit\": \"sum\"}) \\\n",
    "                           .withColumnRenamed(\"sum(Profit)\", \"Total Profit\")"
   ]
  },
  {
   "cell_type": "code",
   "execution_count": null,
   "metadata": {
    "application/vnd.databricks.v1+cell": {
     "cellMetadata": {
      "byteLimit": 2048000,
      "rowLimit": 10000
     },
     "inputWidgets": {},
     "nuid": "7cf9e072-e319-43e9-b319-7b2264f5e29b",
     "showTitle": false,
     "title": ""
    }
   },
   "outputs": [],
   "source": [
    "display(aggregate_df)"
   ]
  },
  {
   "cell_type": "markdown",
   "metadata": {
    "application/vnd.databricks.v1+cell": {
     "cellMetadata": {},
     "inputWidgets": {},
     "nuid": "a8cd5e67-f385-400d-8f3c-7d4a079c1776",
     "showTitle": false,
     "title": ""
    }
   },
   "source": [
    "### Task 5"
   ]
  },
  {
   "cell_type": "code",
   "execution_count": null,
   "metadata": {
    "application/vnd.databricks.v1+cell": {
     "cellMetadata": {
      "byteLimit": 2048000,
      "rowLimit": 10000
     },
     "inputWidgets": {},
     "nuid": "2031c2e6-d6ee-45d3-9eb4-99e0c7261d16",
     "showTitle": false,
     "title": ""
    }
   },
   "outputs": [],
   "source": [
    "master_enriched_df.createOrReplaceTempView(\"master_enriched_table\")"
   ]
  },
  {
   "cell_type": "markdown",
   "metadata": {
    "application/vnd.databricks.v1+cell": {
     "cellMetadata": {},
     "inputWidgets": {},
     "nuid": "246ae331-d110-4f29-b6f5-ab38f8747d71",
     "showTitle": false,
     "title": ""
    }
   },
   "source": [
    "#### a) Profit by Year"
   ]
  },
  {
   "cell_type": "code",
   "execution_count": null,
   "metadata": {
    "application/vnd.databricks.v1+cell": {
     "cellMetadata": {
      "byteLimit": 2048000,
      "rowLimit": 10000
     },
     "inputWidgets": {},
     "nuid": "c6cbc55d-e605-4d7e-9975-38a6feb9169b",
     "showTitle": false,
     "title": ""
    }
   },
   "outputs": [],
   "source": [
    "profit_by_year = spark.sql(\"\"\"\n",
    "    SELECT Year, ROUND(SUM(Profit), 2) AS Total_Profit\n",
    "    FROM master_enriched_table\n",
    "    GROUP BY Year\n",
    "    ORDER BY Year\n",
    "\"\"\")\n",
    "\n",
    "display(profit_by_year)"
   ]
  },
  {
   "cell_type": "markdown",
   "metadata": {
    "application/vnd.databricks.v1+cell": {
     "cellMetadata": {},
     "inputWidgets": {},
     "nuid": "7fbd3f5b-a3aa-40be-8b3a-ce17a7f06249",
     "showTitle": false,
     "title": ""
    }
   },
   "source": [
    "#### b) Profit by Year + Product Category"
   ]
  },
  {
   "cell_type": "code",
   "execution_count": null,
   "metadata": {
    "application/vnd.databricks.v1+cell": {
     "cellMetadata": {
      "byteLimit": 2048000,
      "rowLimit": 10000
     },
     "inputWidgets": {},
     "nuid": "4c5bff87-62e7-4fb1-9592-6c60b59be2c3",
     "showTitle": false,
     "title": ""
    }
   },
   "outputs": [],
   "source": [
    "profit_by_year_category = spark.sql(\"\"\"\n",
    "    SELECT Year, Category, ROUND(SUM(Profit), 2) AS Total_Profit\n",
    "    FROM master_enriched_table\n",
    "    GROUP BY Year, Category\n",
    "    ORDER BY Year, Category\n",
    "\"\"\")\n",
    "\n",
    "display(profit_by_year_category)"
   ]
  },
  {
   "cell_type": "markdown",
   "metadata": {
    "application/vnd.databricks.v1+cell": {
     "cellMetadata": {},
     "inputWidgets": {},
     "nuid": "348463af-0fea-408b-abfc-2b394da95dd4",
     "showTitle": false,
     "title": ""
    }
   },
   "source": [
    "#### c) Profit by Customer"
   ]
  },
  {
   "cell_type": "code",
   "execution_count": null,
   "metadata": {
    "application/vnd.databricks.v1+cell": {
     "cellMetadata": {
      "byteLimit": 2048000,
      "rowLimit": 10000
     },
     "inputWidgets": {},
     "nuid": "b184472e-1b07-4238-b50d-5e9da994997a",
     "showTitle": false,
     "title": ""
    }
   },
   "outputs": [],
   "source": [
    "profit_by_customer = spark.sql(\"\"\"\n",
    "    SELECT `Customer ID`, ROUND(SUM(Profit), 2) AS Total_Profit\n",
    "    FROM master_enriched_table\n",
    "    GROUP BY `Customer ID`\n",
    "\"\"\")\n",
    "\n",
    "display(profit_by_customer)"
   ]
  },
  {
   "cell_type": "markdown",
   "metadata": {},
   "source": [
    "#### d) Profit by Customer + Year"
   ]
  },
  {
   "cell_type": "code",
   "execution_count": null,
   "metadata": {
    "application/vnd.databricks.v1+cell": {
     "cellMetadata": {
      "byteLimit": 2048000,
      "rowLimit": 10000
     },
     "inputWidgets": {},
     "nuid": "5bfb368f-77e1-4002-b135-1ae8521fc276",
     "showTitle": false,
     "title": ""
    }
   },
   "outputs": [],
   "source": [
    "profit_by_customer_year = spark.sql(\"\"\"\n",
    "    SELECT Year, `Customer ID`, ROUND(SUM(Profit), 2) AS Total_Profit\n",
    "    FROM master_enriched_table\n",
    "    GROUP BY Year, `Customer ID`\n",
    "    ORDER BY Year, `Customer ID`\n",
    "\"\"\")\n",
    "\n",
    "display(profit_by_customer_year)"
   ]
  }
 ],
 "metadata": {
  "application/vnd.databricks.v1+notebook": {
   "dashboards": [],
   "language": "python",
   "notebookMetadata": {
    "pythonIndentUnit": 4
   },
   "notebookName": "PEI_Assessment",
   "widgets": {}
  },
  "language_info": {
   "name": "python"
  }
 },
 "nbformat": 4,
 "nbformat_minor": 0
}
